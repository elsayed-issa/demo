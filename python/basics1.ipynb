{
 "cells": [
  {
   "attachments": {},
   "cell_type": "markdown",
   "metadata": {},
   "source": [
    "# Python Programming - Basics I\n",
    "\n",
    "## Objectives:\n",
    "Students will learn:\n",
    "1. Variable assignment.\n",
    "2. Basic object types:\n",
    "    - strings\n",
    "    - numbers\n",
    "    - lists\n",
    "\n",
    "3. Using some built-in fuctions:\n",
    "    - `print()`\n",
    "    - `type()`\n",
    "    - `isinstance()`\n",
    "    - `int()`\n",
    "    - `float()`\n",
    "    - `complex()`\n",
    "    - `bool()`\n",
    "    - `str()`"
   ]
  },
  {
   "attachments": {},
   "cell_type": "markdown",
   "metadata": {},
   "source": [
    "# Variable assignment:\n",
    "\n",
    "- Variables help us to write flexible code.\n",
    "- In Python, the `=` symbol represents the `assignment` operator. "
   ]
  },
  {
   "cell_type": "code",
   "execution_count": 2,
   "metadata": {},
   "outputs": [
    {
     "name": "stdout",
     "output_type": "stream",
     "text": [
      "Name: Salem\n",
      "\n",
      "Age: 20\n"
     ]
    }
   ],
   "source": [
    "name = \"Salem\"\n",
    "print(\"Name:\", name)\n",
    "print(\"-----\")\n",
    "age = 20\n",
    "print(\"Age:\", age)"
   ]
  },
  {
   "attachments": {},
   "cell_type": "markdown",
   "metadata": {},
   "source": [
    "## Varibale Names:\n",
    "- All varibale names are valid except starting with a numerical value or containing `.`. Both `3varibale` and `this.varibale` are INVALID.\n",
    "- Variable names cannot contain one of the words reserved by python:\n",
    "    - `for`, `while`, `break`, `pass`, `continue`, `try`, `except`\n",
    "    - `in`, `not`, `is`, `import`, `as`, `with`, `if`, `from`, `else` \n",
    "    - `def`, `class`, `return`, `yield`, `raises`, `elif`, `finally`"
   ]
  },
  {
   "attachments": {},
   "cell_type": "markdown",
   "metadata": {},
   "source": [
    "### Practice:\n",
    "- valid vs. invalid variable name:\n",
    "    - `asd`\n",
    "    - `as12`\n",
    "    - `for`\n",
    "    - `123`\n",
    "    - `None`\n",
    "    - `12_asd`\n",
    "    - `num_py`"
   ]
  },
  {
   "cell_type": "code",
   "execution_count": 47,
   "metadata": {},
   "outputs": [],
   "source": [
    "import re\n",
    "def check(name):\n",
    "    python_reserved_word = [\"for\", \"while\", \"break\", \"pass\", \"continue\", \"try\", \"except\", \"in\", \"not\", \"is\", \"import\", \"as\", \n",
    "                            \"with\", \"if\", \"from\", \"else\", \"def\", \"class\", \"return\", \"yiled\", \"raises\", \"elif\", \"finally\", \"None\"]\n",
    "    if name in  python_reserved_word:\n",
    "        return \"Invalid\"\n",
    "    if not isinstance(name, str):\n",
    "        return \"Invalid\"\n",
    "    if not re.match(r'^[a-zA-Z_][a-zA-Z0-9_]*$', name):\n",
    "        return \"Invalid\"\n",
    "    return f\"`{name}` is a valid varibale name.\""
   ]
  },
  {
   "cell_type": "code",
   "execution_count": 48,
   "metadata": {},
   "outputs": [
    {
     "name": "stdout",
     "output_type": "stream",
     "text": [
      "`asd` is a valid varibale name.\n",
      "`as12` is a valid varibale name.\n",
      "Invalid\n",
      "Invalid\n",
      "Invalid\n",
      "Invalid\n",
      "`num_py` is a valid varibale name.\n"
     ]
    }
   ],
   "source": [
    "print(check(\"asd\"))\n",
    "print(check(\"as12\"))\n",
    "print(check(\"for\"))\n",
    "print(check(\"123\"))\n",
    "print(check(\"None\"))\n",
    "print(check(\"12_asd\"))\n",
    "print(check(\"num_py\"))"
   ]
  },
  {
   "attachments": {},
   "cell_type": "markdown",
   "metadata": {},
   "source": [
    "# Basic object types:\n",
    "\n",
    "- In Python, the term “object” is quite the catch-all; including numbers, strings of characters, lists, functions\n",
    "- a Python object is essentially anything that you can assign to a variable.\n",
    "\n",
    "*NOTE:* `type` and `isinstance` are two `built-in` fuctions that you can use to find the type of the object."
   ]
  },
  {
   "attachments": {},
   "cell_type": "markdown",
   "metadata": {},
   "source": [
    "## 1. Numbers\n",
    "\n",
    "Types:\n",
    "- Integers:\n",
    "- Floats:\n",
    "- Complex numbers:"
   ]
  },
  {
   "cell_type": "code",
   "execution_count": 7,
   "metadata": {},
   "outputs": [
    {
     "name": "stdout",
     "output_type": "stream",
     "text": [
      "Integer: 5\n",
      "Type: <class 'int'>\n",
      "Type Verfied: True\n",
      "\n",
      "Float: 0.5983\n",
      "Type: <class 'float'>\n",
      "Type Verfied: True\n",
      "\n",
      "Complex: (5+0j)\n",
      "Type: <class 'complex'>\n",
      "Type Verfied: True\n",
      "\n"
     ]
    }
   ],
   "source": [
    "# integer assigned to a varibale called int_number\n",
    "int_number = 5\n",
    "print(\"Integer:\", int_number)\n",
    "print(\"Type:\", type(int_number))\n",
    "print(\"Type Verfied:\", isinstance(int_number, int))\n",
    "print()\n",
    "\n",
    "# integer assigned to a varibale called float_number\n",
    "float_number = 0.5983\n",
    "print(\"Float:\", float_number)\n",
    "print(\"Type:\", type(float_number))\n",
    "print(\"Type Verfied:\", isinstance(float_number, float))\n",
    "print()\n",
    "\n",
    "# integer assigned to a varibale called complex_number\n",
    "complex_number = complex(5)\n",
    "print(\"Complex:\", complex_number)\n",
    "print(\"Type:\", type(complex_number))\n",
    "print(\"Type Verfied:\", isinstance(complex_number, complex))\n",
    "print()"
   ]
  },
  {
   "attachments": {},
   "cell_type": "markdown",
   "metadata": {},
   "source": [
    "### Practice"
   ]
  },
  {
   "cell_type": "code",
   "execution_count": null,
   "metadata": {},
   "outputs": [],
   "source": [
    "# Turn this number into complex and check if the number is int"
   ]
  },
  {
   "attachments": {},
   "cell_type": "markdown",
   "metadata": {},
   "source": [
    "## 2. Mathemtical Operators\n",
    "\n",
    "<table align=\"center\">\n",
    "  <tr>\n",
    "    <th>Operator</th>\n",
    "    <th>Meaning</th> \n",
    "    <th>Operator</th>\n",
    "    <th>Meaning</th> \n",
    "  </tr>\n",
    "  <tr>\n",
    "    <td>+</td>\n",
    "    <td>sum</td> \n",
    "    <td>-</td>\n",
    "    <td>minus</td> \n",
    "  </tr>\n",
    "  <tr>\n",
    "    <td>*</td>\n",
    "    <td>multiply</td> \n",
    "    <td>/</td>\n",
    "    <td>divide</td> \n",
    "  </tr>\n",
    "  <tr>\n",
    "    <td>-</td>\n",
    "    <td>minus</td> \n",
    "    <td>-</td>\n",
    "    <td>minus</td> \n",
    "  </tr>\n",
    "  <tr>\n",
    "    <td>-</td>\n",
    "    <td>minus</td> \n",
    "    <td>-</td>\n",
    "    <td>minus</td> \n",
    "  </tr>\n",
    "  \n",
    "  <tr>\n",
    "    <td>-</td>\n",
    "    <td>minus</td> \n",
    "    <td>-</td>\n",
    "    <td>minus</td> \n",
    "  </tr>\n",
    "</table>"
   ]
  },
  {
   "cell_type": "code",
   "execution_count": 8,
   "metadata": {},
   "outputs": [],
   "source": [
    "# Examples"
   ]
  },
  {
   "attachments": {},
   "cell_type": "markdown",
   "metadata": {},
   "source": [
    "## 3. Boolean:\n",
    "\n",
    "- There are two boolean-type objects: True and False; they belong to the built-in type bool. We have already seen that the isinstance function either returns True or False, as a given object either is or isn’t an instance of a specific type."
   ]
  },
  {
   "cell_type": "code",
   "execution_count": 10,
   "metadata": {},
   "outputs": [
    {
     "data": {
      "text/plain": [
       "True"
      ]
     },
     "execution_count": 10,
     "metadata": {},
     "output_type": "execute_result"
    }
   ],
   "source": [
    "# Is 5 > 6\n",
    "5 > 6\n",
    "\n",
    "# the two boolean-objects: `True` and `False`\n",
    "type(True)\n",
    "\n",
    "# `False` is a boolean-type object\n",
    "isinstance(False, bool)"
   ]
  },
  {
   "attachments": {},
   "cell_type": "markdown",
   "metadata": {},
   "source": [
    "## 4. Logic Operators\n",
    "\n",
    "- Python provides familiar operators for performing basic boolean logic:\n",
    "\n",
    "and &\n",
    "or |"
   ]
  },
  {
   "cell_type": "code",
   "execution_count": 12,
   "metadata": {},
   "outputs": [
    {
     "data": {
      "text/plain": [
       "True"
      ]
     },
     "execution_count": 12,
     "metadata": {},
     "output_type": "execute_result"
    }
   ],
   "source": [
    "# demonstrating boolean-logic operators\n",
    "True or False\n",
    "\n",
    "True and False\n",
    "\n",
    "not False\n"
   ]
  },
  {
   "attachments": {},
   "cell_type": "markdown",
   "metadata": {},
   "source": [
    "## 5. The `None` Type"
   ]
  },
  {
   "cell_type": "code",
   "execution_count": 13,
   "metadata": {},
   "outputs": [
    {
     "data": {
      "text/plain": [
       "NoneType"
      ]
     },
     "execution_count": 13,
     "metadata": {},
     "output_type": "execute_result"
    }
   ],
   "source": [
    "type(None)"
   ]
  },
  {
   "attachments": {},
   "cell_type": "markdown",
   "metadata": {},
   "source": [
    "## 6. Strings\n",
    "\n",
    "- The string type is used to store written characters. A string can be formed using:\n",
    "    - single quotes: `'Hello world'`\n",
    "    - double quotes: `\"Hello world\"`\n",
    "    - triple quotes: `\"\"\"Hello world\"\"\"` or `'''Hello world'''`\n"
   ]
  },
  {
   "cell_type": "code",
   "execution_count": 14,
   "metadata": {},
   "outputs": [
    {
     "data": {
      "text/plain": [
       "'Hello world!'"
      ]
     },
     "execution_count": 14,
     "metadata": {},
     "output_type": "execute_result"
    }
   ],
   "source": [
    "\"Hello world!\""
   ]
  },
  {
   "attachments": {},
   "cell_type": "markdown",
   "metadata": {},
   "source": [
    "- Python uses `UTF-8` unicode by default.\n",
    "- `str()` converts non-string objects into strings."
   ]
  },
  {
   "cell_type": "code",
   "execution_count": 16,
   "metadata": {},
   "outputs": [
    {
     "name": "stdout",
     "output_type": "stream",
     "text": [
      "السلام\n"
     ]
    },
    {
     "data": {
      "text/plain": [
       "'True'"
      ]
     },
     "execution_count": 16,
     "metadata": {},
     "output_type": "execute_result"
    }
   ],
   "source": [
    "# the type `str`\n",
    "type(\"hello\")\n",
    "\n",
    "print(\"السلام\")\n",
    "\n",
    "isinstance(\"83\", str)\n",
    "\n",
    "# Using the type `str` to convert non-string objects\n",
    "# into strings.\n",
    "str(10.34)\n",
    "\n",
    "str(True)\n"
   ]
  },
  {
   "attachments": {},
   "cell_type": "markdown",
   "metadata": {},
   "source": [
    "# Operations on Strings:\n",
    "\n",
    "*Slicing Strings*\n",
    "- strings are sequences of characters and can be sliced."
   ]
  },
  {
   "cell_type": "code",
   "execution_count": 17,
   "metadata": {},
   "outputs": [
    {
     "data": {
      "text/plain": [
       "'c'"
      ]
     },
     "execution_count": 17,
     "metadata": {},
     "output_type": "execute_result"
    }
   ],
   "source": [
    "#NOTE: indexes in python\n",
    "word = \"cat\"\n",
    "word[0]"
   ]
  },
  {
   "attachments": {},
   "cell_type": "markdown",
   "metadata": {},
   "source": [
    "*Create newline `\\n`*\n",
    "- means a new line"
   ]
  },
  {
   "cell_type": "code",
   "execution_count": 24,
   "metadata": {},
   "outputs": [
    {
     "name": "stdout",
     "output_type": "stream",
     "text": [
      "I ate a good lunch\n",
      ". I will eat everyday.\n"
     ]
    }
   ],
   "source": [
    "sentence = \"I ate a good lunch\\n. I will eat everyday.\"\n",
    "print(sentence)"
   ]
  },
  {
   "attachments": {},
   "cell_type": "markdown",
   "metadata": {},
   "source": [
    "*Tab character `\\t`*\n",
    "- renders a tab character"
   ]
  },
  {
   "cell_type": "code",
   "execution_count": 25,
   "metadata": {},
   "outputs": [
    {
     "name": "stdout",
     "output_type": "stream",
     "text": [
      "I ate a good lunch\t. I will eat everyday.\n"
     ]
    }
   ],
   "source": [
    "sentence2 = \"I ate a good lunch\\t. I will eat everyday.\"\n",
    "print(sentence2)"
   ]
  },
  {
   "attachments": {},
   "cell_type": "markdown",
   "metadata": {},
   "source": [
    "*Quotes*\n",
    "- Use of .."
   ]
  },
  {
   "cell_type": "code",
   "execution_count": 26,
   "metadata": {},
   "outputs": [
    {
     "data": {
      "text/plain": [
       "' I am a string.\\nI am part of the same string.\\n    me... too!'"
      ]
     },
     "execution_count": 26,
     "metadata": {},
     "output_type": "execute_result"
    }
   ],
   "source": [
    "x = \"\"\" I am a string.\n",
    "I am part of the same string.\n",
    "    me... too!\"\"\"\n",
    "x"
   ]
  },
  {
   "attachments": {},
   "cell_type": "markdown",
   "metadata": {},
   "source": [
    "## Strings built-in functions:\n",
    " - `capitalize()`\n",
    " - `lower()`\n",
    " - `upper()`\n",
    " - `split()`\n",
    " - `startswith()`\n",
    " - `endswith()`\n",
    " - `format()`\n",
    " - `isdigit()`\n",
    " - `join()`"
   ]
  },
  {
   "cell_type": "code",
   "execution_count": 30,
   "metadata": {},
   "outputs": [
    {
     "name": "stdout",
     "output_type": "stream",
     "text": [
      "Capitalizes the first letter: Cat\n"
     ]
    }
   ],
   "source": [
    "x1 = \"cat\".capitalize()\n",
    "print(\"Capitalizes the first letter:\", x1)\n"
   ]
  },
  {
   "cell_type": "code",
   "execution_count": 31,
   "metadata": {},
   "outputs": [
    {
     "name": "stdout",
     "output_type": "stream",
     "text": [
      "CAT\n"
     ]
    }
   ],
   "source": [
    "x2 = \"cat\".upper()\n",
    "print(x2)"
   ]
  },
  {
   "cell_type": "code",
   "execution_count": null,
   "metadata": {},
   "outputs": [],
   "source": [
    "#Question: Can you discover what other functions do?"
   ]
  },
  {
   "attachments": {},
   "cell_type": "markdown",
   "metadata": {},
   "source": [
    "## Format Strings:"
   ]
  },
  {
   "cell_type": "markdown",
   "metadata": {},
   "source": []
  }
 ],
 "metadata": {
  "kernelspec": {
   "display_name": "Python 3",
   "language": "python",
   "name": "python3"
  },
  "language_info": {
   "codemirror_mode": {
    "name": "ipython",
    "version": 3
   },
   "file_extension": ".py",
   "mimetype": "text/x-python",
   "name": "python",
   "nbconvert_exporter": "python",
   "pygments_lexer": "ipython3",
   "version": "3.10.6 (main, Aug 30 2022, 05:11:14) [Clang 13.0.0 (clang-1300.0.29.30)]"
  },
  "orig_nbformat": 4,
  "vscode": {
   "interpreter": {
    "hash": "aee8b7b246df8f9039afb4144a1f6fd8d2ca17a180786b69acc140d282b71a49"
   }
  }
 },
 "nbformat": 4,
 "nbformat_minor": 2
}
