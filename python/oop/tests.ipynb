{
 "cells": [
  {
   "cell_type": "code",
   "execution_count": null,
   "metadata": {},
   "outputs": [],
   "source": [
    "%load_ext autoreload\n",
    "%autoreload 2"
   ]
  },
  {
   "cell_type": "code",
   "execution_count": null,
   "metadata": {},
   "outputs": [],
   "source": [
    "from string import punctuation\n",
    "\n",
    "from assignment.solution.oop import Alice\n"
   ]
  },
  {
   "cell_type": "code",
   "execution_count": null,
   "metadata": {},
   "outputs": [],
   "source": [
    "data = \"assignment/data/alice.txt\"\n",
    "\n",
    "alice = Alice(data)"
   ]
  },
  {
   "cell_type": "markdown",
   "metadata": {},
   "source": [
    "## Test`.read_file()` (2 points)"
   ]
  },
  {
   "cell_type": "code",
   "execution_count": null,
   "metadata": {},
   "outputs": [],
   "source": [
    "def test_read_file():\n",
    "    \"\"\"\n",
    "    This function asserts that you remove the header where the first line in your file should be \n",
    "    (ALICE'S ADVENTURES IN WONDERLAND). \n",
    "    \"\"\"\n",
    "    read_file = alice.read_file()\n",
    "    x = read_file.strip()\n",
    "    assert x[0:32] == \"ALICE'S ADVENTURES IN WONDERLAND\"\n",
    "    \n",
    "test_read_file()"
   ]
  },
  {
   "cell_type": "markdown",
   "metadata": {},
   "source": [
    "## Test`.clean_text()` (2 points)"
   ]
  },
  {
   "cell_type": "code",
   "execution_count": null,
   "metadata": {},
   "outputs": [],
   "source": [
    "def test_clean_text():\n",
    "    \"\"\"\n",
    "    This function asserts that \n",
    "                1) all characters are lowercase.\n",
    "                2) all punctuation marks are removed. \n",
    "    \"\"\"\n",
    "    cleaned_text = alice.clean_text()\n",
    "\n",
    "    # detect any uppercase letters\n",
    "    uppercase = any(ele.isupper() for ele in cleaned_text)\n",
    "\n",
    "    # detect any punctaution\n",
    "    punct = any(p in cleaned_text for p in punctuation)\n",
    "\n",
    "    assert uppercase == False\n",
    "    assert punct == False\n",
    "    \n",
    "test_clean_text()"
   ]
  },
  {
   "cell_type": "markdown",
   "metadata": {},
   "source": [
    "## Test`.split_text()` (2 points)"
   ]
  },
  {
   "cell_type": "code",
   "execution_count": null,
   "metadata": {},
   "outputs": [],
   "source": [
    "def test_split_text():\n",
    "    \"\"\"\n",
    "    This function asserts you split the text and return the count of words\n",
    "    \"\"\"\n",
    "    words = alice.split_text()\n",
    "\n",
    "    assert len(words) == 26406\n",
    "    assert type(words) == list\n",
    "    \n",
    "test_split_text()"
   ]
  },
  {
   "cell_type": "code",
   "execution_count": null,
   "metadata": {},
   "outputs": [],
   "source": [
    "# Python code to find frequency of each word\n",
    "def freq(str):\n",
    " \n",
    "    # break the string into list of words\n",
    "    #str = str.split()        \n",
    "    str2 = []\n",
    " \n",
    "    # loop till string values present in list str\n",
    "    for i in str:            \n",
    " \n",
    "        # checking for the duplicacy\n",
    "        if i not in str2:\n",
    " \n",
    "            # insert value in str2\n",
    "            str2.append(i)\n",
    "             \n",
    "    for i in range(0, len(str2)):\n",
    " \n",
    "        # count the frequency of each word(present\n",
    "        # in str2) in str and print\n",
    "        print('Frequency of', str2[i], 'is :', str.count(str2[i]))   \n",
    " \n",
    "def main():\n",
    "    str ='apple mango apple orange orange apple guava mango mango'\n",
    "    freq(str)                   \n",
    " \n",
    "if __name__==\"__main__\":\n",
    "    main() "
   ]
  },
  {
   "cell_type": "code",
   "execution_count": null,
   "metadata": {},
   "outputs": [],
   "source": [
    "l = str ='apple mango apple orange orange apple guava mango mango'.split()"
   ]
  },
  {
   "cell_type": "code",
   "execution_count": null,
   "metadata": {},
   "outputs": [],
   "source": [
    "unique_words = set(str)\n",
    "for words in unique_words :\n",
    "    print('Frequency of ', words , 'is :', str.count(words))"
   ]
  },
  {
   "cell_type": "code",
   "execution_count": null,
   "metadata": {},
   "outputs": [],
   "source": [
    "for i in range(0, len(l)):\n",
    " \n",
    "        # count the frequency of each word(present\n",
    "        # in str2) in str and print\n",
    "    #print('Frequency of', l[i], 'is :', str.count(l[i]))\n",
    "    print(l.count(i))"
   ]
  },
  {
   "cell_type": "code",
   "execution_count": null,
   "metadata": {},
   "outputs": [],
   "source": [
    "\n",
    "\n",
    "\n",
    "c = [('the', 1632), ('and', 845), ('to', 721), ('a', 627), ('she', 537), ('it', 526), ('of', 508), ('said', 462), ('i', 401), ('alice', 386)]\n",
    "\n",
    "x = [i[0] for i in c]\n",
    "y = [i[1] for i in c]\n",
    "\n",
    "\n"
   ]
  },
  {
   "cell_type": "code",
   "execution_count": null,
   "metadata": {},
   "outputs": [],
   "source": [
    "print(x)\n",
    "print(y)"
   ]
  },
  {
   "cell_type": "code",
   "execution_count": null,
   "metadata": {},
   "outputs": [],
   "source": [
    "import matplotlib.pylab as plt\n",
    "\n",
    "\n",
    "\n",
    "plt.plot(x, y)\n",
    "plt.show()"
   ]
  },
  {
   "cell_type": "code",
   "execution_count": null,
   "metadata": {},
   "outputs": [],
   "source": []
  }
 ],
 "metadata": {
  "kernelspec": {
   "display_name": "Python 3.8.13 ('clu-speech')",
   "language": "python",
   "name": "python3"
  },
  "language_info": {
   "codemirror_mode": {
    "name": "ipython",
    "version": 3
   },
   "file_extension": ".py",
   "mimetype": "text/x-python",
   "name": "python",
   "nbconvert_exporter": "python",
   "pygments_lexer": "ipython3",
   "version": "3.8.15 (default, Nov 24 2022, 09:04:07) \n[Clang 14.0.6 ]"
  },
  "orig_nbformat": 4,
  "vscode": {
   "interpreter": {
    "hash": "cd4761d60d94b54fef70ab0c1682c6c20da9c2db87b3ba5974498d79e643fb2b"
   }
  }
 },
 "nbformat": 4,
 "nbformat_minor": 2
}
