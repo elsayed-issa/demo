{
 "cells": [
  {
   "cell_type": "code",
   "execution_count": 80,
   "metadata": {},
   "outputs": [],
   "source": [
    "from assignment.solution.linear_algebra import LinearAlgebra\n",
    "import numpy as np"
   ]
  },
  {
   "cell_type": "code",
   "execution_count": 81,
   "metadata": {},
   "outputs": [],
   "source": [
    "linear = LinearAlgebra()"
   ]
  },
  {
   "cell_type": "code",
   "execution_count": 82,
   "metadata": {},
   "outputs": [],
   "source": [
    "np.random.seed(5)"
   ]
  },
  {
   "cell_type": "code",
   "execution_count": 83,
   "metadata": {},
   "outputs": [
    {
     "name": "stdout",
     "output_type": "stream",
     "text": [
      "The autoreload extension is already loaded. To reload it, use:\n",
      "  %reload_ext autoreload\n"
     ]
    }
   ],
   "source": [
    "%load_ext autoreload\n",
    "%autoreload 2"
   ]
  },
  {
   "cell_type": "markdown",
   "metadata": {},
   "source": [
    "## Test `x` (2 points)"
   ]
  },
  {
   "cell_type": "code",
   "execution_count": 84,
   "metadata": {},
   "outputs": [],
   "source": [
    "def test_x():\n",
    "    x = linear.x\n",
    "    res = np.array([[0.22199317],\n",
    "                  [0.87073231],\n",
    "                  [0.20671916]])\n",
    "\n",
    "    assert np.allclose(x, res)\n",
    "test_x()"
   ]
  },
  {
   "cell_type": "markdown",
   "metadata": {},
   "source": [
    "## Test `y` (2 points)"
   ]
  },
  {
   "cell_type": "code",
   "execution_count": 85,
   "metadata": {},
   "outputs": [],
   "source": [
    "def test_y():\n",
    "    y = linear.y\n",
    "    res = np.array([[0.91861091],\n",
    "                    [0.48841119],\n",
    "                    [0.61174386]])\n",
    "\n",
    "    assert np.allclose(y, res)\n",
    "test_y()"
   ]
  },
  {
   "cell_type": "markdown",
   "metadata": {},
   "source": [
    "## Test`.X` (2 points)"
   ]
  },
  {
   "cell_type": "code",
   "execution_count": 86,
   "metadata": {},
   "outputs": [],
   "source": [
    "def test_X():\n",
    "    X = linear.X\n",
    "    res = np.array([[0.76590786, 0.51841799, 0.2968005],\n",
    "                [0.18772123, 0.08074127, 0.7384403],\n",
    "                [0.44130922, 0.15830987, 0.87993703]])\n",
    "\n",
    "    assert np.allclose(X, res)\n",
    "\n",
    "test_X()"
   ]
  },
  {
   "cell_type": "markdown",
   "metadata": {},
   "source": [
    "## Test`.sum()` (2 points)"
   ]
  },
  {
   "cell_type": "code",
   "execution_count": 87,
   "metadata": {},
   "outputs": [],
   "source": [
    "def test_sum():\n",
    "    sum = linear.sum()\n",
    "    res = np.array([[1.14060408],\n",
    "                    [1.35914349],\n",
    "                    [0.81846302]])\n",
    "\n",
    "    assert np.allclose(sum, res)\n",
    "\n",
    "test_sum()"
   ]
  },
  {
   "cell_type": "markdown",
   "metadata": {},
   "source": [
    "## Test`.multiply()` (2 points)"
   ]
  },
  {
   "cell_type": "code",
   "execution_count": 88,
   "metadata": {},
   "outputs": [],
   "source": [
    "def test_multiply():\n",
    "    multiply = linear.multiply()\n",
    "    res = np.array([[0.20392535],\n",
    "                    [0.4252754],\n",
    "                    [0.12645917]])\n",
    "\n",
    "    assert np.allclose(multiply, res)\n",
    "\n",
    "test_multiply()"
   ]
  },
  {
   "cell_type": "markdown",
   "metadata": {},
   "source": [
    "## Test`.x_transpose()` (2 points)"
   ]
  },
  {
   "cell_type": "code",
   "execution_count": 89,
   "metadata": {},
   "outputs": [],
   "source": [
    "def test_transpose():\n",
    "    t = linear.x_transpose()\n",
    "    res = np.array([[0.22199317, 0.87073231, 0.20671916]])\n",
    "\n",
    "    assert np.allclose(t, res)\n",
    "\n",
    "test_transpose()"
   ]
  },
  {
   "cell_type": "markdown",
   "metadata": {},
   "source": [
    "## Test`.dot_product()` (2 points)"
   ]
  },
  {
   "cell_type": "code",
   "execution_count": 90,
   "metadata": {},
   "outputs": [],
   "source": [
    "def test_dot_product():\n",
    "    dot = linear.dot_product()\n",
    "    res = np.array([[0.75565992]])\n",
    "\n",
    "    assert np.allclose(dot, res)\n",
    "\n",
    "test_dot_product()"
   ]
  },
  {
   "cell_type": "markdown",
   "metadata": {},
   "source": [
    "## Test`.dot_product_x_X()` (2 points)"
   ]
  },
  {
   "cell_type": "code",
   "execution_count": 91,
   "metadata": {},
   "outputs": [],
   "source": [
    "def test_dot_product_x_X():\n",
    "    dot_xy = linear.dot_product_x_X()\n",
    "    res = np.array([[0.42470832, 0.21811497, 0.89077135]])\n",
    "\n",
    "    assert np.allclose(dot_xy, res)\n",
    "\n",
    "test_dot_product_x_X()"
   ]
  },
  {
   "cell_type": "markdown",
   "metadata": {},
   "source": [
    "## Test`.dot_product_x_X_y()` (2 points)"
   ]
  },
  {
   "cell_type": "code",
   "execution_count": 92,
   "metadata": {},
   "outputs": [],
   "source": [
    "def test_dot_product_x_X_y():\n",
    "    dot_xXy = linear.dot_product_x_X_y()\n",
    "    res = np.array([[0.3901417, 0.20036279, 0.81827228],\n",
    "                    [0.2074323,  0.10652979, 0.43506269],\n",
    "                    [0.25981271, 0.13343049, 0.5449239 ]])\n",
    "\n",
    "    assert np.allclose(dot_xXy, res)\n",
    "\n",
    "test_dot_product_x_X_y()"
   ]
  },
  {
   "cell_type": "markdown",
   "metadata": {},
   "source": [
    "## Test`.inverse()` (2 points)"
   ]
  },
  {
   "cell_type": "code",
   "execution_count": 93,
   "metadata": {},
   "outputs": [],
   "source": [
    "def test_inverse():\n",
    "    inv = linear.inverse()\n",
    "    res = np.array([[-0.98756526, -8.8125446, 7.72856201],\n",
    "                    [3.46088517, 11.69373912, -10.98069554],\n",
    "                    [-0.12736208, 2.31587357, -0.76406971]])\n",
    "\n",
    "    assert np.allclose(inv, res)\n",
    "\n",
    "test_inverse()"
   ]
  },
  {
   "cell_type": "markdown",
   "metadata": {},
   "source": [
    "## Test`.dot_product_inverse()` (2 points)"
   ]
  },
  {
   "cell_type": "code",
   "execution_count": 95,
   "metadata": {},
   "outputs": [],
   "source": [
    "def test_dot_product_inverse():\n",
    "    dot_inv = linear.dot_product_inverse()\n",
    "    res = np.array([[-0.756384, -4.56858164, 2.29384108],\n",
    "                    [0.64968162, 0.94416733, -8.10858807],\n",
    "                    [-0.05620606, 0.36662564, -0.67233324]])\n",
    "\n",
    "    assert np.allclose(dot_inv, res)\n",
    "\n",
    "test_dot_product_inverse()"
   ]
  },
  {
   "cell_type": "code",
   "execution_count": null,
   "metadata": {},
   "outputs": [],
   "source": []
  }
 ],
 "metadata": {
  "kernelspec": {
   "display_name": "Python 3.8.13 ('clu-speech')",
   "language": "python",
   "name": "python3"
  },
  "language_info": {
   "codemirror_mode": {
    "name": "ipython",
    "version": 3
   },
   "file_extension": ".py",
   "mimetype": "text/x-python",
   "name": "python",
   "nbconvert_exporter": "python",
   "pygments_lexer": "ipython3",
   "version": "3.8.15 (default, Nov 24 2022, 09:04:07) \n[Clang 14.0.6 ]"
  },
  "orig_nbformat": 4,
  "vscode": {
   "interpreter": {
    "hash": "cd4761d60d94b54fef70ab0c1682c6c20da9c2db87b3ba5974498d79e643fb2b"
   }
  }
 },
 "nbformat": 4,
 "nbformat_minor": 2
}
